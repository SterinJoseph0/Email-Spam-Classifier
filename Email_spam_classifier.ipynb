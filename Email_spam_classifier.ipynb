{
  "nbformat": 4,
  "nbformat_minor": 0,
  "metadata": {
    "colab": {
      "provenance": []
    },
    "kernelspec": {
      "name": "python3",
      "display_name": "Python 3"
    },
    "language_info": {
      "name": "python"
    }
  },
  "cells": [
    {
      "cell_type": "code",
      "metadata": {
        "colab": {
          "base_uri": "https://localhost:8080/"
        },
        "id": "oeybWEuvM77T",
        "outputId": "c7ab8952-3875-46f9-b029-6664b28b85f6"
      },
      "source": [
        "import nltk\n",
        "nltk.download('punkt')"
      ],
      "execution_count": null,
      "outputs": [
        {
          "output_type": "stream",
          "name": "stdout",
          "text": [
            "[nltk_data] Downloading package punkt to /root/nltk_data...\n",
            "[nltk_data]   Unzipping tokenizers/punkt.zip.\n"
          ]
        },
        {
          "output_type": "execute_result",
          "data": {
            "text/plain": [
              "True"
            ]
          },
          "metadata": {},
          "execution_count": 2
        }
      ]
    },
    {
      "cell_type": "code",
      "metadata": {
        "id": "wGepDQimNSkt"
      },
      "source": [
        "from nltk.tokenize import RegexpTokenizer\n",
        "mytokenizer=RegexpTokenizer('\\w+')"
      ],
      "execution_count": null,
      "outputs": []
    },
    {
      "cell_type": "code",
      "metadata": {
        "id": "iFxKpYG8Nvnk"
      },
      "source": [
        "def tok(x):\n",
        "  return(mytokenizer.tokenize(x))"
      ],
      "execution_count": null,
      "outputs": []
    },
    {
      "cell_type": "code",
      "metadata": {
        "id": "aTtdk0uCPj65"
      },
      "source": [
        "import re\n",
        "def remsc(text):\n",
        "  pattern='[0-9_]'\n",
        "  data=[re.sub(pattern,'',i)for i in text]\n",
        "  return data\n"
      ],
      "execution_count": null,
      "outputs": []
    },
    {
      "cell_type": "code",
      "metadata": {
        "colab": {
          "base_uri": "https://localhost:8080/"
        },
        "id": "Su_Cy5QjQJ5H",
        "outputId": "f0dd6e40-d278-48c8-b903-fe8646a81285"
      },
      "source": [
        "from nltk.corpus import stopwords\n",
        "nltk.download('stopwords')"
      ],
      "execution_count": null,
      "outputs": [
        {
          "output_type": "stream",
          "name": "stdout",
          "text": [
            "[nltk_data] Downloading package stopwords to /root/nltk_data...\n",
            "[nltk_data]   Unzipping corpora/stopwords.zip.\n"
          ]
        },
        {
          "output_type": "execute_result",
          "data": {
            "text/plain": [
              "True"
            ]
          },
          "metadata": {},
          "execution_count": 6
        }
      ]
    },
    {
      "cell_type": "code",
      "metadata": {
        "colab": {
          "base_uri": "https://localhost:8080/"
        },
        "id": "uC_Mx-IrRhuq",
        "outputId": "c544b89a-038c-4ea5-b1af-26e9359ae3cb"
      },
      "source": [
        "sw=stopwords.words('english')\n",
        "sw"
      ],
      "execution_count": null,
      "outputs": [
        {
          "output_type": "execute_result",
          "data": {
            "text/plain": [
              "['i',\n",
              " 'me',\n",
              " 'my',\n",
              " 'myself',\n",
              " 'we',\n",
              " 'our',\n",
              " 'ours',\n",
              " 'ourselves',\n",
              " 'you',\n",
              " \"you're\",\n",
              " \"you've\",\n",
              " \"you'll\",\n",
              " \"you'd\",\n",
              " 'your',\n",
              " 'yours',\n",
              " 'yourself',\n",
              " 'yourselves',\n",
              " 'he',\n",
              " 'him',\n",
              " 'his',\n",
              " 'himself',\n",
              " 'she',\n",
              " \"she's\",\n",
              " 'her',\n",
              " 'hers',\n",
              " 'herself',\n",
              " 'it',\n",
              " \"it's\",\n",
              " 'its',\n",
              " 'itself',\n",
              " 'they',\n",
              " 'them',\n",
              " 'their',\n",
              " 'theirs',\n",
              " 'themselves',\n",
              " 'what',\n",
              " 'which',\n",
              " 'who',\n",
              " 'whom',\n",
              " 'this',\n",
              " 'that',\n",
              " \"that'll\",\n",
              " 'these',\n",
              " 'those',\n",
              " 'am',\n",
              " 'is',\n",
              " 'are',\n",
              " 'was',\n",
              " 'were',\n",
              " 'be',\n",
              " 'been',\n",
              " 'being',\n",
              " 'have',\n",
              " 'has',\n",
              " 'had',\n",
              " 'having',\n",
              " 'do',\n",
              " 'does',\n",
              " 'did',\n",
              " 'doing',\n",
              " 'a',\n",
              " 'an',\n",
              " 'the',\n",
              " 'and',\n",
              " 'but',\n",
              " 'if',\n",
              " 'or',\n",
              " 'because',\n",
              " 'as',\n",
              " 'until',\n",
              " 'while',\n",
              " 'of',\n",
              " 'at',\n",
              " 'by',\n",
              " 'for',\n",
              " 'with',\n",
              " 'about',\n",
              " 'against',\n",
              " 'between',\n",
              " 'into',\n",
              " 'through',\n",
              " 'during',\n",
              " 'before',\n",
              " 'after',\n",
              " 'above',\n",
              " 'below',\n",
              " 'to',\n",
              " 'from',\n",
              " 'up',\n",
              " 'down',\n",
              " 'in',\n",
              " 'out',\n",
              " 'on',\n",
              " 'off',\n",
              " 'over',\n",
              " 'under',\n",
              " 'again',\n",
              " 'further',\n",
              " 'then',\n",
              " 'once',\n",
              " 'here',\n",
              " 'there',\n",
              " 'when',\n",
              " 'where',\n",
              " 'why',\n",
              " 'how',\n",
              " 'all',\n",
              " 'any',\n",
              " 'both',\n",
              " 'each',\n",
              " 'few',\n",
              " 'more',\n",
              " 'most',\n",
              " 'other',\n",
              " 'some',\n",
              " 'such',\n",
              " 'no',\n",
              " 'nor',\n",
              " 'not',\n",
              " 'only',\n",
              " 'own',\n",
              " 'same',\n",
              " 'so',\n",
              " 'than',\n",
              " 'too',\n",
              " 'very',\n",
              " 's',\n",
              " 't',\n",
              " 'can',\n",
              " 'will',\n",
              " 'just',\n",
              " 'don',\n",
              " \"don't\",\n",
              " 'should',\n",
              " \"should've\",\n",
              " 'now',\n",
              " 'd',\n",
              " 'll',\n",
              " 'm',\n",
              " 'o',\n",
              " 're',\n",
              " 've',\n",
              " 'y',\n",
              " 'ain',\n",
              " 'aren',\n",
              " \"aren't\",\n",
              " 'couldn',\n",
              " \"couldn't\",\n",
              " 'didn',\n",
              " \"didn't\",\n",
              " 'doesn',\n",
              " \"doesn't\",\n",
              " 'hadn',\n",
              " \"hadn't\",\n",
              " 'hasn',\n",
              " \"hasn't\",\n",
              " 'haven',\n",
              " \"haven't\",\n",
              " 'isn',\n",
              " \"isn't\",\n",
              " 'ma',\n",
              " 'mightn',\n",
              " \"mightn't\",\n",
              " 'mustn',\n",
              " \"mustn't\",\n",
              " 'needn',\n",
              " \"needn't\",\n",
              " 'shan',\n",
              " \"shan't\",\n",
              " 'shouldn',\n",
              " \"shouldn't\",\n",
              " 'wasn',\n",
              " \"wasn't\",\n",
              " 'weren',\n",
              " \"weren't\",\n",
              " 'won',\n",
              " \"won't\",\n",
              " 'wouldn',\n",
              " \"wouldn't\"]"
            ]
          },
          "metadata": {},
          "execution_count": 7
        }
      ]
    },
    {
      "cell_type": "code",
      "metadata": {
        "id": "xF21qPijT6_l"
      },
      "source": [
        "s1='Send us your @password'\n",
        "s2='Send us your #review'\n",
        "s3='Review your _password'\n",
        "s4='Review us'\n",
        "s5='Send your 10 password'\n",
        "s6='Send us your account'\n",
        "examples=[s1,s2,s3,s4,s5,s6]"
      ],
      "execution_count": null,
      "outputs": []
    },
    {
      "cell_type": "code",
      "metadata": {
        "colab": {
          "base_uri": "https://localhost:8080/"
        },
        "id": "B1jalVr-U6Ws",
        "outputId": "8dbef23d-bdf8-4a5e-95a1-109126e8672f"
      },
      "source": [
        "clean_data=remsc(examples)\n",
        "clean_data"
      ],
      "execution_count": null,
      "outputs": [
        {
          "output_type": "execute_result",
          "data": {
            "text/plain": [
              "['Send us your @password',\n",
              " 'Send us your #review',\n",
              " 'Review your password',\n",
              " 'Review us',\n",
              " 'Send your  password',\n",
              " 'Send us your account']"
            ]
          },
          "metadata": {},
          "execution_count": 9
        }
      ]
    },
    {
      "cell_type": "code",
      "metadata": {
        "id": "TJ0pxJTPVVv6"
      },
      "source": [
        "from sklearn.feature_extraction.text import TfidfVectorizer\n",
        "Vectorizer=TfidfVectorizer(tokenizer=tok,stop_words=sw,ngram_range=(1,2))"
      ],
      "execution_count": null,
      "outputs": []
    },
    {
      "cell_type": "code",
      "metadata": {
        "colab": {
          "base_uri": "https://localhost:8080/"
        },
        "id": "M4pShJC1aZTv",
        "outputId": "52bf3019-b442-42df-e304-fc20757ce1dc"
      },
      "source": [
        "my_final_matrix=Vectorizer.fit_transform(clean_data)\n",
        "print(my_final_matrix.toarray())"
      ],
      "execution_count": null,
      "outputs": [
        {
          "output_type": "stream",
          "name": "stdout",
          "text": [
            "[[0.         0.42428418 0.         0.         0.         0.36357931\n",
            "  0.         0.42428418 0.36357931 0.         0.61285074 0.        ]\n",
            " [0.         0.         0.42428418 0.         0.         0.36357931\n",
            "  0.         0.42428418 0.36357931 0.         0.         0.61285074]\n",
            " [0.         0.49468646 0.49468646 0.71454223 0.         0.\n",
            "  0.         0.         0.         0.         0.         0.        ]\n",
            " [0.         0.         0.51159697 0.         0.73896835 0.\n",
            "  0.         0.         0.43839973 0.         0.         0.        ]\n",
            " [0.         0.51159697 0.         0.         0.         0.43839973\n",
            "  0.73896835 0.         0.         0.         0.         0.        ]\n",
            " [0.5604894  0.         0.         0.         0.         0.33251546\n",
            "  0.         0.38803377 0.33251546 0.5604894  0.         0.        ]]\n"
          ]
        }
      ]
    },
    {
      "cell_type": "code",
      "metadata": {
        "colab": {
          "base_uri": "https://localhost:8080/"
        },
        "id": "5_y1vjb2bCrc",
        "outputId": "a845f645-b5b9-4b6a-f600-ad228cb2e0df"
      },
      "source": [
        "Vectorizer.get_feature_names()"
      ],
      "execution_count": null,
      "outputs": [
        {
          "output_type": "stream",
          "name": "stderr",
          "text": [
            "/usr/local/lib/python3.7/dist-packages/sklearn/utils/deprecation.py:87: FutureWarning: Function get_feature_names is deprecated; get_feature_names is deprecated in 1.0 and will be removed in 1.2. Please use get_feature_names_out instead.\n",
            "  warnings.warn(msg, category=FutureWarning)\n"
          ]
        },
        {
          "output_type": "execute_result",
          "data": {
            "text/plain": [
              "['account',\n",
              " 'password',\n",
              " 'review',\n",
              " 'review password',\n",
              " 'review us',\n",
              " 'send',\n",
              " 'send password',\n",
              " 'send us',\n",
              " 'us',\n",
              " 'us account',\n",
              " 'us password',\n",
              " 'us review']"
            ]
          },
          "metadata": {},
          "execution_count": 12
        }
      ]
    },
    {
      "cell_type": "code",
      "metadata": {
        "colab": {
          "base_uri": "https://localhost:8080/"
        },
        "id": "KWxWkWfJdwR1",
        "outputId": "4208d2c4-12f0-4b92-f16e-1b6d4be224e5"
      },
      "source": [
        "from google.colab import drive\n",
        "drive.mount('/gdrive')"
      ],
      "execution_count": null,
      "outputs": [
        {
          "output_type": "stream",
          "name": "stdout",
          "text": [
            "Mounted at /gdrive\n"
          ]
        }
      ]
    },
    {
      "cell_type": "code",
      "metadata": {
        "id": "BtYmQyOTeZuK"
      },
      "source": [
        "import pandas as pd\n",
        "import numpy as np"
      ],
      "execution_count": null,
      "outputs": []
    },
    {
      "cell_type": "code",
      "metadata": {
        "id": "-8s50EAIefKu"
      },
      "source": [
        "path = '/gdrive/My Drive/Online MLCC : Oct 2021/Data/Classwork/'"
      ],
      "execution_count": null,
      "outputs": []
    },
    {
      "cell_type": "code",
      "metadata": {
        "id": "9Xm37ul-ek6-"
      },
      "source": [
        "data = pd.read_csv(path+'emails.csv')"
      ],
      "execution_count": null,
      "outputs": []
    },
    {
      "cell_type": "code",
      "metadata": {
        "colab": {
          "base_uri": "https://localhost:8080/",
          "height": 204
        },
        "id": "VognJGnLeqkf",
        "outputId": "b0c046b3-bbdd-4f76-bd3a-2a635c241af1"
      },
      "source": [
        "data.head()"
      ],
      "execution_count": null,
      "outputs": [
        {
          "output_type": "execute_result",
          "data": {
            "text/html": [
              "<div>\n",
              "<style scoped>\n",
              "    .dataframe tbody tr th:only-of-type {\n",
              "        vertical-align: middle;\n",
              "    }\n",
              "\n",
              "    .dataframe tbody tr th {\n",
              "        vertical-align: top;\n",
              "    }\n",
              "\n",
              "    .dataframe thead th {\n",
              "        text-align: right;\n",
              "    }\n",
              "</style>\n",
              "<table border=\"1\" class=\"dataframe\">\n",
              "  <thead>\n",
              "    <tr style=\"text-align: right;\">\n",
              "      <th></th>\n",
              "      <th>text</th>\n",
              "      <th>spam</th>\n",
              "    </tr>\n",
              "  </thead>\n",
              "  <tbody>\n",
              "    <tr>\n",
              "      <th>0</th>\n",
              "      <td>Subject: naturally irresistible your corporate...</td>\n",
              "      <td>1</td>\n",
              "    </tr>\n",
              "    <tr>\n",
              "      <th>1</th>\n",
              "      <td>Subject: the stock trading gunslinger  fanny i...</td>\n",
              "      <td>1</td>\n",
              "    </tr>\n",
              "    <tr>\n",
              "      <th>2</th>\n",
              "      <td>Subject: unbelievable new homes made easy  im ...</td>\n",
              "      <td>1</td>\n",
              "    </tr>\n",
              "    <tr>\n",
              "      <th>3</th>\n",
              "      <td>Subject: 4 color printing special  request add...</td>\n",
              "      <td>1</td>\n",
              "    </tr>\n",
              "    <tr>\n",
              "      <th>4</th>\n",
              "      <td>Subject: do not have money , get software cds ...</td>\n",
              "      <td>1</td>\n",
              "    </tr>\n",
              "  </tbody>\n",
              "</table>\n",
              "</div>"
            ],
            "text/plain": [
              "                                                text  spam\n",
              "0  Subject: naturally irresistible your corporate...     1\n",
              "1  Subject: the stock trading gunslinger  fanny i...     1\n",
              "2  Subject: unbelievable new homes made easy  im ...     1\n",
              "3  Subject: 4 color printing special  request add...     1\n",
              "4  Subject: do not have money , get software cds ...     1"
            ]
          },
          "metadata": {},
          "execution_count": 17
        }
      ]
    },
    {
      "cell_type": "code",
      "metadata": {
        "colab": {
          "base_uri": "https://localhost:8080/"
        },
        "id": "a0SP8mfVfGdB",
        "outputId": "0f8e422b-b593-4188-d09e-b17857427a34"
      },
      "source": [
        "data.shape"
      ],
      "execution_count": null,
      "outputs": [
        {
          "output_type": "execute_result",
          "data": {
            "text/plain": [
              "(5728, 2)"
            ]
          },
          "metadata": {},
          "execution_count": 18
        }
      ]
    },
    {
      "cell_type": "code",
      "metadata": {
        "id": "WyvoEVLBfLMn"
      },
      "source": [
        "x = data['text']\n",
        "y = data['spam']"
      ],
      "execution_count": null,
      "outputs": []
    },
    {
      "cell_type": "code",
      "metadata": {
        "colab": {
          "base_uri": "https://localhost:8080/"
        },
        "id": "iByY4zlsfWU1",
        "outputId": "f92c0e23-075a-47cd-b297-0829e72b8232"
      },
      "source": [
        "print(\"counts of spam: {} , label is {}\".format(sum(y==1), '1'))\n",
        "print(\"counts of not_spam: {}, label is {}\".format(sum(y==0), '0'))"
      ],
      "execution_count": null,
      "outputs": [
        {
          "output_type": "stream",
          "name": "stdout",
          "text": [
            "counts of spam: 1368 , label is 1\n",
            "counts of not_spam: 4360, label is 0\n"
          ]
        }
      ]
    },
    {
      "cell_type": "code",
      "metadata": {
        "colab": {
          "base_uri": "https://localhost:8080/"
        },
        "id": "CuxphQVig_rZ",
        "outputId": "0778a4a1-ea4c-4904-b037-c559c154eeac"
      },
      "source": [
        "x =x.values.tolist()\n",
        "type(x)"
      ],
      "execution_count": null,
      "outputs": [
        {
          "output_type": "execute_result",
          "data": {
            "text/plain": [
              "list"
            ]
          },
          "metadata": {},
          "execution_count": 21
        }
      ]
    },
    {
      "cell_type": "code",
      "metadata": {
        "id": "SD9fYe1OhF9A"
      },
      "source": [
        "data = remsc(x)"
      ],
      "execution_count": null,
      "outputs": []
    },
    {
      "cell_type": "code",
      "metadata": {
        "id": "XULPSKnViGLO"
      },
      "source": [
        "my_Vectorizer = TfidfVectorizer(tokenizer=tok, stop_words=sw, ngram_range=(1, 1))"
      ],
      "execution_count": null,
      "outputs": []
    },
    {
      "cell_type": "code",
      "metadata": {
        "colab": {
          "base_uri": "https://localhost:8080/"
        },
        "id": "X-AFsNjWiPhf",
        "outputId": "6de7c4e8-65f1-48db-caa0-39d8c29a3020"
      },
      "source": [
        "Vector_x= my_Vectorizer.fit_transform(data)\n",
        "print(Vector_x.toarray())"
      ],
      "execution_count": null,
      "outputs": [
        {
          "output_type": "stream",
          "name": "stdout",
          "text": [
            "[[0. 0. 0. ... 0. 0. 0.]\n",
            " [0. 0. 0. ... 0. 0. 0.]\n",
            " [0. 0. 0. ... 0. 0. 0.]\n",
            " ...\n",
            " [0. 0. 0. ... 0. 0. 0.]\n",
            " [0. 0. 0. ... 0. 0. 0.]\n",
            " [0. 0. 0. ... 0. 0. 0.]]\n"
          ]
        }
      ]
    },
    {
      "cell_type": "code",
      "metadata": {
        "colab": {
          "base_uri": "https://localhost:8080/"
        },
        "id": "wClRCjd6ig3_",
        "outputId": "42cac4a3-d298-43b9-a49f-3903db41bfc1"
      },
      "source": [
        "Vector_x.shape"
      ],
      "execution_count": null,
      "outputs": [
        {
          "output_type": "execute_result",
          "data": {
            "text/plain": [
              "(5728, 33563)"
            ]
          },
          "metadata": {},
          "execution_count": 25
        }
      ]
    },
    {
      "cell_type": "code",
      "metadata": {
        "colab": {
          "base_uri": "https://localhost:8080/"
        },
        "id": "O6OpdSYwioTA",
        "outputId": "7e71dc95-de35-4be6-d4e4-e13b41967f33"
      },
      "source": [
        "my_Vectorizer.get_feature_names()"
      ],
      "execution_count": null,
      "outputs": [
        {
          "output_type": "stream",
          "name": "stderr",
          "text": [
            "/usr/local/lib/python3.7/dist-packages/sklearn/utils/deprecation.py:87: FutureWarning: Function get_feature_names is deprecated; get_feature_names is deprecated in 1.0 and will be removed in 1.2. Please use get_feature_names_out instead.\n",
            "  warnings.warn(msg, category=FutureWarning)\n"
          ]
        },
        {
          "output_type": "execute_result",
          "data": {
            "text/plain": [
              "['aa',\n",
              " 'aaa',\n",
              " 'aaaenerfax',\n",
              " 'aadedeji',\n",
              " 'aagrawal',\n",
              " 'aal',\n",
              " 'aaldous',\n",
              " 'aaliyah',\n",
              " 'aall',\n",
              " 'aanalysis',\n",
              " 'aaron',\n",
              " 'aawesome',\n",
              " 'ab',\n",
              " 'aba',\n",
              " 'abacha',\n",
              " 'abacus',\n",
              " 'abahy',\n",
              " 'abaixo',\n",
              " 'abandon',\n",
              " 'abandoned',\n",
              " 'abandonment',\n",
              " 'abargain',\n",
              " 'abarr',\n",
              " 'abattoir',\n",
              " 'abb',\n",
              " 'abbas',\n",
              " 'abbestellen',\n",
              " 'abbott',\n",
              " 'abbreviated',\n",
              " 'abbreviation',\n",
              " 'abc',\n",
              " 'abcsearch',\n",
              " 'abdalla',\n",
              " 'abdallat',\n",
              " 'abdelnour',\n",
              " 'abdul',\n",
              " 'abdulla',\n",
              " 'abdullah',\n",
              " 'abeis',\n",
              " 'abel',\n",
              " 'abello',\n",
              " 'abels',\n",
              " 'aber',\n",
              " 'abernathy',\n",
              " 'abetted',\n",
              " 'abeyance',\n",
              " 'abf',\n",
              " 'abhay',\n",
              " 'abide',\n",
              " 'abidjan',\n",
              " 'abiiity',\n",
              " 'abilene',\n",
              " 'abilities',\n",
              " 'ability',\n",
              " 'abilmesi',\n",
              " 'abit',\n",
              " 'abitibi',\n",
              " 'abklaeren',\n",
              " 'abl',\n",
              " 'able',\n",
              " 'abler',\n",
              " 'abliged',\n",
              " 'ablx',\n",
              " 'ably',\n",
              " 'abn',\n",
              " 'abnegate',\n",
              " 'abnormal',\n",
              " 'abnormality',\n",
              " 'aboard',\n",
              " 'abolish',\n",
              " 'abondantly',\n",
              " 'abook',\n",
              " 'aboriginal',\n",
              " 'abormalities',\n",
              " 'abort',\n",
              " 'abortive',\n",
              " 'abouts',\n",
              " 'aboutthis',\n",
              " 'aboutus',\n",
              " 'aboutvenita',\n",
              " 'aboveground',\n",
              " 'abovenet',\n",
              " 'abovetelefax',\n",
              " 'abqewvbgf',\n",
              " 'abr',\n",
              " 'abraham',\n",
              " 'abramov',\n",
              " 'abramowicz',\n",
              " 'abrams',\n",
              " 'abrasive',\n",
              " 'abreast',\n",
              " 'abreo',\n",
              " 'abridged',\n",
              " 'abroad',\n",
              " 'abs',\n",
              " 'abscissa',\n",
              " 'absconded',\n",
              " 'absence',\n",
              " 'absense',\n",
              " 'absent',\n",
              " 'absolute',\n",
              " 'absolutely',\n",
              " 'absolutes',\n",
              " 'absolve',\n",
              " 'absolved',\n",
              " 'absorb',\n",
              " 'absorbing',\n",
              " 'absorbowac',\n",
              " 'absorbs',\n",
              " 'absorption',\n",
              " 'absoutely',\n",
              " 'abspielt',\n",
              " 'abstained',\n",
              " 'abstract',\n",
              " 'abstractive',\n",
              " 'abstracts',\n",
              " 'abstruse',\n",
              " 'absultely',\n",
              " 'absurd',\n",
              " 'abu',\n",
              " 'abuja',\n",
              " 'abundance',\n",
              " 'abundancegroup',\n",
              " 'abundant',\n",
              " 'abundantly',\n",
              " 'abuse',\n",
              " 'abused',\n",
              " 'abusive',\n",
              " 'abutler',\n",
              " 'aby',\n",
              " 'abyssinia',\n",
              " 'ac',\n",
              " 'acacia',\n",
              " 'academe',\n",
              " 'academia',\n",
              " 'academic',\n",
              " 'academically',\n",
              " 'academicians',\n",
              " 'academics',\n",
              " 'academy',\n",
              " 'acadia',\n",
              " 'acadrep',\n",
              " 'acc',\n",
              " 'accelerate',\n",
              " 'accelerated',\n",
              " 'accelerating',\n",
              " 'acceleration',\n",
              " 'accellerate',\n",
              " 'accent',\n",
              " 'accentuates',\n",
              " 'accenture',\n",
              " 'accept',\n",
              " 'acceptability',\n",
              " 'acceptable',\n",
              " 'acceptance',\n",
              " 'accepted',\n",
              " 'accepting',\n",
              " 'accepts',\n",
              " 'acces',\n",
              " 'accesing',\n",
              " 'acceso',\n",
              " 'accesos',\n",
              " 'access',\n",
              " 'accessed',\n",
              " 'accessenergy',\n",
              " 'accesses',\n",
              " 'accessibility',\n",
              " 'accessible',\n",
              " 'accessing',\n",
              " 'accessories',\n",
              " 'accident',\n",
              " 'accidentally',\n",
              " 'accidents',\n",
              " 'acclaimed',\n",
              " 'acclivity',\n",
              " 'accommodate',\n",
              " 'accommodates',\n",
              " 'accommodating',\n",
              " 'accommodation',\n",
              " 'accommodations',\n",
              " 'accomodate',\n",
              " 'accomodated',\n",
              " 'accomodates',\n",
              " 'accomodating',\n",
              " 'accomodation',\n",
              " 'accomodations',\n",
              " 'accomodative',\n",
              " 'accompanied',\n",
              " 'accompanies',\n",
              " 'accompanist',\n",
              " 'accompany',\n",
              " 'accompanying',\n",
              " 'accomplish',\n",
              " 'accomplished',\n",
              " 'accomplishemnts',\n",
              " 'accomplishing',\n",
              " 'accomplishment',\n",
              " 'accomplishments',\n",
              " 'accord',\n",
              " 'accordance',\n",
              " 'according',\n",
              " 'accordingly',\n",
              " 'account',\n",
              " 'accountability',\n",
              " 'accountable',\n",
              " 'accountant',\n",
              " 'accountants',\n",
              " 'accounted',\n",
              " 'accountif',\n",
              " 'accounting',\n",
              " 'accounton',\n",
              " 'accounts',\n",
              " 'accreditation',\n",
              " 'accredited',\n",
              " 'accrual',\n",
              " 'accruals',\n",
              " 'accrue',\n",
              " 'accrued',\n",
              " 'accruing',\n",
              " 'acct',\n",
              " 'accumuiation',\n",
              " 'accumulate',\n",
              " 'accumulated',\n",
              " 'accumulating',\n",
              " 'accumulation',\n",
              " 'accumulations',\n",
              " 'accuracy',\n",
              " 'accurate',\n",
              " 'accurately',\n",
              " 'accusation',\n",
              " 'accuse',\n",
              " 'accused',\n",
              " 'accustomed',\n",
              " 'accuweather',\n",
              " 'accuwx',\n",
              " 'ace',\n",
              " 'acel',\n",
              " 'acepta',\n",
              " 'acetylene',\n",
              " 'aceuticai',\n",
              " 'ach',\n",
              " 'aches',\n",
              " 'achievable',\n",
              " 'achieve',\n",
              " 'achieved',\n",
              " 'achievement',\n",
              " 'achievements',\n",
              " 'achieves',\n",
              " 'achieving',\n",
              " 'achy',\n",
              " 'acid',\n",
              " 'acidic',\n",
              " 'acima',\n",
              " 'acitivities',\n",
              " 'ack',\n",
              " 'acknowledge',\n",
              " 'acknowledged',\n",
              " 'acknowledgement',\n",
              " 'acknowledgements',\n",
              " 'acknowledges',\n",
              " 'acknowledging',\n",
              " 'acl',\n",
              " 'aco',\n",
              " 'acoh',\n",
              " 'acoplamentos',\n",
              " 'acpw',\n",
              " 'acquaint',\n",
              " 'acquaintance',\n",
              " 'acquainted',\n",
              " 'acquiescence',\n",
              " 'acquire',\n",
              " 'acquired',\n",
              " 'acquires',\n",
              " 'acquiring',\n",
              " 'acquisition',\n",
              " 'acquisitions',\n",
              " 'acre',\n",
              " 'acres',\n",
              " 'acrimony',\n",
              " 'acrobat',\n",
              " 'acronyms',\n",
              " 'across',\n",
              " 'acrylic',\n",
              " 'act',\n",
              " 'acted',\n",
              " 'acting',\n",
              " 'actinic',\n",
              " 'action',\n",
              " 'actions',\n",
              " 'activate',\n",
              " 'activated',\n",
              " 'activation',\n",
              " 'active',\n",
              " 'actively',\n",
              " 'activex',\n",
              " 'activities',\n",
              " 'activity',\n",
              " 'acts',\n",
              " 'actua',\n",
              " 'actual',\n",
              " 'actuality',\n",
              " 'actuallising',\n",
              " 'actually',\n",
              " 'actuallyreverses',\n",
              " 'actuals',\n",
              " 'actuarial',\n",
              " 'actuaries',\n",
              " 'actuary',\n",
              " 'actuators',\n",
              " 'acucmulated',\n",
              " 'acumen',\n",
              " 'acutal',\n",
              " 'acute',\n",
              " 'acxiom',\n",
              " 'acy',\n",
              " 'ad',\n",
              " 'ada',\n",
              " 'adage',\n",
              " 'adam',\n",
              " 'adamant',\n",
              " 'adamantly',\n",
              " 'adambob',\n",
              " 'adamik',\n",
              " 'adams',\n",
              " 'adapt',\n",
              " 'adapted',\n",
              " 'adapter',\n",
              " 'adapters',\n",
              " 'adapting',\n",
              " 'adaptive',\n",
              " 'adapts',\n",
              " 'adare',\n",
              " 'adauction',\n",
              " 'adclick',\n",
              " 'add',\n",
              " 'added',\n",
              " 'addendum',\n",
              " 'addicted',\n",
              " 'addictive',\n",
              " 'addin',\n",
              " 'adding',\n",
              " 'addiontionally',\n",
              " 'addition',\n",
              " 'additiona',\n",
              " 'additionai',\n",
              " 'additional',\n",
              " 'additionaliy',\n",
              " 'additionally',\n",
              " 'additionnal',\n",
              " 'additions',\n",
              " 'additive',\n",
              " 'additivity',\n",
              " 'additonal',\n",
              " 'addr',\n",
              " 'addres',\n",
              " 'address',\n",
              " 'addressdatabases',\n",
              " 'addressed',\n",
              " 'addressee',\n",
              " 'addressees',\n",
              " 'addresses',\n",
              " 'addressess',\n",
              " 'addressgood',\n",
              " 'addressing',\n",
              " 'addressl',\n",
              " 'addressmake',\n",
              " 'adds',\n",
              " 'addtion',\n",
              " 'adducing',\n",
              " 'ade',\n",
              " 'adedamola',\n",
              " 'adedeji',\n",
              " 'adel',\n",
              " 'adelaide',\n",
              " 'aden',\n",
              " 'adenauera',\n",
              " 'adenda',\n",
              " 'adenovector',\n",
              " 'adept',\n",
              " 'adequacy',\n",
              " 'adequate',\n",
              " 'adequately',\n",
              " 'adewale',\n",
              " 'adeyinka',\n",
              " 'adgas',\n",
              " 'adhadwal',\n",
              " 'adhar',\n",
              " 'adhere',\n",
              " 'adhered',\n",
              " 'adherence',\n",
              " 'adheres',\n",
              " 'adhering',\n",
              " 'adhesive',\n",
              " 'adhesives',\n",
              " 'adib',\n",
              " 'adicciones',\n",
              " 'adii',\n",
              " 'adina',\n",
              " 'adinfo',\n",
              " 'ading',\n",
              " 'adjacent',\n",
              " 'adjected',\n",
              " 'adjesting',\n",
              " 'adjohnso',\n",
              " 'adjourn',\n",
              " 'adjournment',\n",
              " 'adjourns',\n",
              " 'adjunct',\n",
              " 'adjuntos',\n",
              " 'adjust',\n",
              " 'adjustable',\n",
              " 'adjusted',\n",
              " 'adjusting',\n",
              " 'adjustment',\n",
              " 'adjustments',\n",
              " 'adjusts',\n",
              " 'adjutancy',\n",
              " 'adler',\n",
              " 'adm',\n",
              " 'admerchant',\n",
              " 'admin',\n",
              " 'adminder',\n",
              " 'administer',\n",
              " 'administered',\n",
              " 'administering',\n",
              " 'administers',\n",
              " 'administration',\n",
              " 'administrations',\n",
              " 'administrative',\n",
              " 'administratively',\n",
              " 'administrator',\n",
              " 'administrators',\n",
              " 'adminitrative',\n",
              " 'admins',\n",
              " 'adminscript',\n",
              " 'adminsitrative',\n",
              " 'adminstrative',\n",
              " 'admirably',\n",
              " 'admiral',\n",
              " 'admiration',\n",
              " 'admire',\n",
              " 'admired',\n",
              " 'admissible',\n",
              " 'admission',\n",
              " 'admissions',\n",
              " 'admit',\n",
              " 'admits',\n",
              " 'admittance',\n",
              " 'admitted',\n",
              " 'admix',\n",
              " 'admixture',\n",
              " 'admonition',\n",
              " 'adnan',\n",
              " 'adnoc',\n",
              " 'ado',\n",
              " 'adobe',\n",
              " 'adobechoose',\n",
              " 'adolescent',\n",
              " 'adolescentes',\n",
              " 'adolfo',\n",
              " 'adonna',\n",
              " 'adopt',\n",
              " 'adopted',\n",
              " 'adopting',\n",
              " 'adoption',\n",
              " 'adopts',\n",
              " 'adoration',\n",
              " 'adore',\n",
              " 'adovor',\n",
              " 'adp',\n",
              " 'adposition',\n",
              " 'adqueen',\n",
              " 'adreporting',\n",
              " 'adres',\n",
              " 'adress',\n",
              " 'adresse',\n",
              " 'adresses',\n",
              " 'adrian',\n",
              " 'adriana',\n",
              " 'adrianbold',\n",
              " 'adrianne',\n",
              " 'adrrf',\n",
              " 'ads',\n",
              " 'adshwe',\n",
              " 'adsini',\n",
              " 'adsl',\n",
              " 'aduit',\n",
              " 'adult',\n",
              " 'adultpaysites',\n",
              " 'adults',\n",
              " 'adultwebmasters',\n",
              " 'adupont',\n",
              " 'adv',\n",
              " 'advance',\n",
              " 'advanced',\n",
              " 'advancement',\n",
              " 'advances',\n",
              " 'advancing',\n",
              " 'advancve',\n",
              " 'advantage',\n",
              " 'advantageous',\n",
              " 'advantages',\n",
              " 'advantaqes',\n",
              " 'advent',\n",
              " 'adventure',\n",
              " 'adventurous',\n",
              " 'adverse',\n",
              " 'adversity',\n",
              " 'advertise',\n",
              " 'advertised',\n",
              " 'advertisement',\n",
              " 'advertisements',\n",
              " 'advertiser',\n",
              " 'advertisers',\n",
              " 'advertisersplash',\n",
              " 'advertising',\n",
              " 'advertizing',\n",
              " 'advice',\n",
              " 'advicer',\n",
              " 'advisable',\n",
              " 'advise',\n",
              " 'advised',\n",
              " 'advisement',\n",
              " 'adviser',\n",
              " 'advisers',\n",
              " 'advises',\n",
              " 'advising',\n",
              " 'advisor',\n",
              " 'advisors',\n",
              " 'advisory',\n",
              " 'advocacy',\n",
              " 'advocate',\n",
              " 'advocates',\n",
              " 'advocating',\n",
              " 'ae',\n",
              " 'aeasterby',\n",
              " 'aeecl',\n",
              " 'aegis',\n",
              " 'aeopublishing',\n",
              " 'aep',\n",
              " 'aer',\n",
              " 'aeremenko',\n",
              " 'aerify',\n",
              " 'aero',\n",
              " 'aerofoam',\n",
              " 'aerofoammetals',\n",
              " 'aeron',\n",
              " 'aeronautic',\n",
              " 'aeronautical',\n",
              " 'aeronavigation',\n",
              " 'aerons',\n",
              " 'aerospace',\n",
              " 'aerpac',\n",
              " 'aesop',\n",
              " 'aesp',\n",
              " 'af',\n",
              " 'afa',\n",
              " 'afaoaf',\n",
              " 'afast',\n",
              " 'afc',\n",
              " 'afdt',\n",
              " 'affair',\n",
              " 'affaire',\n",
              " 'affaires',\n",
              " 'affairs',\n",
              " 'affect',\n",
              " 'affected',\n",
              " 'affecteusement',\n",
              " 'affecting',\n",
              " 'affective',\n",
              " 'affects',\n",
              " 'affid',\n",
              " 'affidavit',\n",
              " 'affidavits',\n",
              " 'affiiiate',\n",
              " 'affiiiated',\n",
              " 'affiliate',\n",
              " 'affiliated',\n",
              " 'affiliates',\n",
              " 'affiliation',\n",
              " 'affiliations',\n",
              " 'affinity',\n",
              " 'affirmative',\n",
              " 'affirmed',\n",
              " 'affix',\n",
              " 'afflatus',\n",
              " 'afflicted',\n",
              " 'afflictions',\n",
              " 'affluence',\n",
              " 'affluent',\n",
              " 'afforable',\n",
              " 'afford',\n",
              " 'affordability',\n",
              " 'affordable',\n",
              " 'affordabowl',\n",
              " 'afforded',\n",
              " 'affords',\n",
              " 'afft',\n",
              " 'afire',\n",
              " 'afoot',\n",
              " 'aford',\n",
              " 'afore',\n",
              " 'aforementioned',\n",
              " 'afpe',\n",
              " 'afraid',\n",
              " 'afree',\n",
              " 'africa',\n",
              " 'african',\n",
              " 'africans',\n",
              " 'aft',\n",
              " 'afteading',\n",
              " 'aftermath',\n",
              " 'afternoon',\n",
              " 'afternoondc',\n",
              " 'afternoons',\n",
              " 'afterthought',\n",
              " 'afterward',\n",
              " 'afterwards',\n",
              " 'ag',\n",
              " 'aga',\n",
              " 'againstyear',\n",
              " 'agarwal',\n",
              " 'agarwalla',\n",
              " 'agarwallah',\n",
              " 'agato',\n",
              " 'agc',\n",
              " 'agdesteen',\n",
              " 'age',\n",
              " 'aged',\n",
              " 'agencies',\n",
              " 'agency',\n",
              " 'agenda',\n",
              " 'agendal',\n",
              " 'agendas',\n",
              " 'agent',\n",
              " 'agents',\n",
              " 'agentur',\n",
              " 'agerhardt',\n",
              " 'ages',\n",
              " 'agg',\n",
              " 'aggrandisement',\n",
              " 'aggregate',\n",
              " 'aggregated',\n",
              " 'aggregates',\n",
              " 'aggregating',\n",
              " 'aggregation',\n",
              " 'aggregator',\n",
              " 'aggressive',\n",
              " 'aggressively',\n",
              " 'aggressor',\n",
              " 'aghh',\n",
              " 'agileconcepts',\n",
              " 'agility',\n",
              " 'agin',\n",
              " 'aging',\n",
              " 'agitate',\n",
              " 'aglife',\n",
              " 'agnes',\n",
              " 'agnihotri',\n",
              " 'agnomen',\n",
              " 'ago',\n",
              " 'agowe',\n",
              " 'agradecer',\n",
              " 'agrawal',\n",
              " 'agree',\n",
              " 'agreeable',\n",
              " 'agreed',\n",
              " 'agreeing',\n",
              " 'agreelment',\n",
              " 'agreemeent',\n",
              " 'agreement',\n",
              " 'agreements',\n",
              " 'agrees',\n",
              " 'agressively',\n",
              " 'agresti',\n",
              " 'agri',\n",
              " 'agricaltural',\n",
              " 'agricultural',\n",
              " 'agriculture',\n",
              " 'agriculturists',\n",
              " 'agrocom',\n",
              " 'aguardando',\n",
              " 'aguardo',\n",
              " 'aguilar',\n",
              " 'agus',\n",
              " 'ah',\n",
              " 'ahad',\n",
              " 'ahamer',\n",
              " 'ahc',\n",
              " 'ahead',\n",
              " 'aherns',\n",
              " 'ahi',\n",
              " 'ahmad',\n",
              " 'ahmedabad',\n",
              " 'ahn',\n",
              " 'ahora',\n",
              " 'ahotsexycouple',\n",
              " 'ai',\n",
              " 'aiberta',\n",
              " 'aibums',\n",
              " 'aicohoi',\n",
              " 'aicohol',\n",
              " 'aid',\n",
              " 'aida',\n",
              " 'aidan',\n",
              " 'aide',\n",
              " 'aided',\n",
              " 'aider',\n",
              " 'aides',\n",
              " 'aids',\n",
              " 'aiesec',\n",
              " 'aieseec',\n",
              " 'aig',\n",
              " 'aihf',\n",
              " 'aii',\n",
              " 'aiias',\n",
              " 'aiignment',\n",
              " 'aiity',\n",
              " 'ail',\n",
              " 'aileen',\n",
              " 'ailiance',\n",
              " 'ailin',\n",
              " 'ailing',\n",
              " 'ailowing',\n",
              " 'ailures',\n",
              " 'aim',\n",
              " 'aima',\n",
              " 'aime',\n",
              " 'aimed',\n",
              " 'aimeedodson',\n",
              " 'aimfunds',\n",
              " 'aiming',\n",
              " 'aimone',\n",
              " 'aims',\n",
              " 'aine',\n",
              " 'ainsi',\n",
              " 'ainsley',\n",
              " 'aiong',\n",
              " 'air',\n",
              " 'airam',\n",
              " 'airbill',\n",
              " 'airbus',\n",
              " 'aircraft',\n",
              " 'aircrafts',\n",
              " 'aiready',\n",
              " 'aireal',\n",
              " 'aired',\n",
              " 'aires',\n",
              " 'airfaire',\n",
              " 'airfare',\n",
              " 'airfares',\n",
              " 'airgas',\n",
              " 'airing',\n",
              " 'airline',\n",
              " 'airlines',\n",
              " 'airliquide',\n",
              " 'airplane',\n",
              " 'airport',\n",
              " 'airports',\n",
              " 'airshed',\n",
              " 'airway',\n",
              " 'airworthiness',\n",
              " 'aisa',\n",
              " 'aisaac',\n",
              " 'aisha',\n",
              " 'aishling',\n",
              " 'aisle',\n",
              " 'aiso',\n",
              " 'ait',\n",
              " 'aithough',\n",
              " 'aitken',\n",
              " 'aiuminum',\n",
              " 'aiways',\n",
              " 'aix',\n",
              " 'aj',\n",
              " 'ajaokuta',\n",
              " 'ajay',\n",
              " 'ajello',\n",
              " 'aji',\n",
              " 'ajimenez',\n",
              " 'ajit',\n",
              " 'ajnam',\n",
              " 'ajo',\n",
              " 'ajudar',\n",
              " 'ak',\n",
              " 'aka',\n",
              " 'akaike',\n",
              " 'akamai',\n",
              " 'akdwyer',\n",
              " 'aked',\n",
              " 'akhave',\n",
              " 'akin',\n",
              " 'akllp',\n",
              " 'aknowledging',\n",
              " 'akron',\n",
              " 'aktualnie',\n",
              " 'al',\n",
              " 'alabama',\n",
              " 'alabi',\n",
              " 'alaca',\n",
              " 'alacak',\n",
              " 'alacarteresearch',\n",
              " 'alain',\n",
              " 'alaina',\n",
              " 'alamo',\n",
              " 'alamonsoff',\n",
              " 'alamos',\n",
              " 'alan',\n",
              " 'alang',\n",
              " 'alarm',\n",
              " 'alarmas',\n",
              " 'alarms',\n",
              " 'alaska',\n",
              " 'alaskan',\n",
              " 'alaw',\n",
              " 'albanis',\n",
              " 'albeit',\n",
              " 'albert',\n",
              " 'alberta',\n",
              " 'alberto',\n",
              " 'albertson',\n",
              " 'albion',\n",
              " 'albo',\n",
              " 'albrecht',\n",
              " 'album',\n",
              " 'albums',\n",
              " 'alcantara',\n",
              " 'alcar',\n",
              " 'alcoa',\n",
              " 'alcohoi',\n",
              " 'alcohol',\n",
              " 'alda',\n",
              " 'alden',\n",
              " 'alder',\n",
              " 'alderman',\n",
              " 'aldous',\n",
              " 'ale',\n",
              " 'alea',\n",
              " 'alec',\n",
              " 'alegria',\n",
              " 'alejandra',\n",
              " 'alek',\n",
              " 'aleksander',\n",
              " 'aleksandra',\n",
              " 'alert',\n",
              " 'alerted',\n",
              " 'alerts',\n",
              " 'alev',\n",
              " 'alex',\n",
              " 'alexana',\n",
              " 'alexander',\n",
              " 'alexandria',\n",
              " 'alexey',\n",
              " 'alexios',\n",
              " 'alexis',\n",
              " 'alexmann',\n",
              " 'aley',\n",
              " 'alff',\n",
              " 'alfonso',\n",
              " 'alford',\n",
              " 'alfred',\n",
              " 'alfredo',\n",
              " 'algebra',\n",
              " 'algeria',\n",
              " 'algorithm',\n",
              " 'algorithmic',\n",
              " 'algorithmical',\n",
              " 'algorithmics',\n",
              " 'algorithmist',\n",
              " 'algorithms',\n",
              " 'alhaji',\n",
              " 'alhamd',\n",
              " 'ali',\n",
              " 'alias',\n",
              " 'alibi',\n",
              " 'alice',\n",
              " 'aliceposta',\n",
              " 'alicia',\n",
              " 'aliens',\n",
              " 'alight',\n",
              " 'align',\n",
              " 'alignment',\n",
              " 'alike',\n",
              " 'alimentation',\n",
              " 'alimony',\n",
              " 'aliow',\n",
              " 'aliows',\n",
              " 'aliphatic',\n",
              " 'alisa',\n",
              " 'alison',\n",
              " 'alittle',\n",
              " 'alive',\n",
              " 'alkalimetry',\n",
              " 'alkaline',\n",
              " 'alkalinity',\n",
              " 'alkhayat',\n",
              " 'alkiem',\n",
              " 'alla',\n",
              " 'allah',\n",
              " 'allan',\n",
              " 'allario',\n",
              " 'allay',\n",
              " 'allayannis',\n",
              " 'allayed',\n",
              " 'alldo',\n",
              " 'allegation',\n",
              " 'allegations',\n",
              " 'alleged',\n",
              " 'allegheny',\n",
              " 'alleging',\n",
              " 'allegoric',\n",
              " 'allen',\n",
              " 'allens',\n",
              " 'allerdings',\n",
              " 'allergies',\n",
              " 'alleviate',\n",
              " 'alleviations',\n",
              " 'alliance',\n",
              " 'allianceexpressl',\n",
              " 'alliances',\n",
              " 'alliant',\n",
              " 'allianz',\n",
              " 'alliece',\n",
              " 'allied',\n",
              " 'allison',\n",
              " 'alll',\n",
              " 'allmerica',\n",
              " 'allocate',\n",
              " 'allocated',\n",
              " 'allocating',\n",
              " 'allocation',\n",
              " 'allocations',\n",
              " 'allocution',\n",
              " 'allotted',\n",
              " 'allow',\n",
              " 'allowance',\n",
              " 'allowances',\n",
              " 'allowed',\n",
              " 'allowing',\n",
              " 'allows',\n",
              " 'alloy',\n",
              " 'allright',\n",
              " 'allstates',\n",
              " 'allude',\n",
              " 'alluded',\n",
              " 'alluding',\n",
              " 'allure',\n",
              " 'allusion',\n",
              " 'allusions',\n",
              " 'alluvium',\n",
              " 'ally',\n",
              " 'allyannis',\n",
              " 'alm',\n",
              " 'alma',\n",
              " 'almaty',\n",
              " 'almazan',\n",
              " 'almelo',\n",
              " 'almighty',\n",
              " 'almost',\n",
              " 'alms',\n",
              " 'aloe',\n",
              " 'alon',\n",
              " 'alone',\n",
              " 'along',\n",
              " 'alongside',\n",
              " 'alongwith',\n",
              " 'alonso',\n",
              " 'alot',\n",
              " 'alp',\n",
              " 'alpan',\n",
              " 'alpbach',\n",
              " 'alpbacher',\n",
              " 'alpha',\n",
              " 'alphabet',\n",
              " 'alphabetical',\n",
              " 'alphabetically',\n",
              " 'alphanumeric',\n",
              " 'alpharetta',\n",
              " 'already',\n",
              " 'alright',\n",
              " 'als',\n",
              " 'alsd',\n",
              " 'also',\n",
              " 'alst',\n",
              " 'alstom',\n",
              " 'alstrom',\n",
              " 'alt',\n",
              " 'alta',\n",
              " 'altadena',\n",
              " 'altair',\n",
              " 'altamont',\n",
              " 'altar',\n",
              " 'altemus',\n",
              " 'alter',\n",
              " 'altera',\n",
              " 'alteration',\n",
              " 'alterations',\n",
              " 'altercation',\n",
              " 'altered',\n",
              " 'alterman',\n",
              " ...]"
            ]
          },
          "metadata": {},
          "execution_count": 26
        }
      ]
    },
    {
      "cell_type": "code",
      "metadata": {
        "id": "Q8B4T3ElK_Ox"
      },
      "source": [
        "from sklearn.model_selection import train_test_split\n",
        "X_train, X_test, y_train, y_test = train_test_split(Vector_x, np.array(y), test_size=0.25)"
      ],
      "execution_count": null,
      "outputs": []
    },
    {
      "cell_type": "code",
      "metadata": {
        "colab": {
          "base_uri": "https://localhost:8080/"
        },
        "id": "xJDaKSOuLJEC",
        "outputId": "1fc87580-9cea-4a0d-9b0e-a6d323e2a478"
      },
      "source": [
        "y_train.shape, X_train.shape, X_test.shape, y_test.shape"
      ],
      "execution_count": null,
      "outputs": [
        {
          "output_type": "execute_result",
          "data": {
            "text/plain": [
              "((4296,), (4296, 33563), (1432, 33563), (1432,))"
            ]
          },
          "metadata": {},
          "execution_count": 28
        }
      ]
    },
    {
      "cell_type": "code",
      "metadata": {
        "colab": {
          "base_uri": "https://localhost:8080/"
        },
        "id": "T8GA_n8gL8Xk",
        "outputId": "c3917535-210f-41b9-f0d6-ebf82d113748"
      },
      "source": [
        "#for data that has a normal/Gaussian Distribution\n",
        "from sklearn.naive_bayes import GaussianNB\n",
        "clf_Gaussian = GaussianNB()\n",
        "clf_Gaussian.fit(X_train.toarray(), y_train)\n",
        "\n",
        "y_pred1= clf_Gaussian.predict(X_test.toarray())\n",
        "\n",
        "from sklearn.metrics import accuracy_score\n",
        "print(accuracy_score(y_test, y_pred1))"
      ],
      "execution_count": null,
      "outputs": [
        {
          "output_type": "stream",
          "name": "stdout",
          "text": [
            "0.9629888268156425\n"
          ]
        }
      ]
    },
    {
      "cell_type": "code",
      "metadata": {
        "colab": {
          "base_uri": "https://localhost:8080/"
        },
        "id": "TIUokyRyUIpc",
        "outputId": "9f77d36e-6c73-4aa1-e71b-aedbeef891b1"
      },
      "source": [
        "#when there is class imbalance\n",
        "from sklearn.naive_bayes import ComplementNB\n",
        "clf_complement = ComplementNB()\n",
        "clf_complement.fit(X_train.toarray(), y_train)\n",
        "\n",
        "y_pred2= clf_complement.predict(X_test.toarray())\n",
        "\n",
        "print(accuracy_score(y_test, y_pred2))"
      ],
      "execution_count": null,
      "outputs": [
        {
          "output_type": "stream",
          "name": "stdout",
          "text": [
            "0.9574022346368715\n"
          ]
        }
      ]
    },
    {
      "cell_type": "code",
      "metadata": {
        "colab": {
          "base_uri": "https://localhost:8080/"
        },
        "id": "d8F_zxviVNc1",
        "outputId": "4400d7da-c3c5-455b-e43c-12e8593a11b6"
      },
      "source": [
        "#When there is multivariate input features\n",
        "from sklearn.naive_bayes import BernoulliNB\n",
        "clf_Bernoulli = BernoulliNB()\n",
        "clf_Bernoulli.fit(X_train.toarray(), y_train)\n",
        "\n",
        "y_pred3= clf_Bernoulli.predict(X_test.toarray())\n",
        "\n",
        "print(accuracy_score(y_test, y_pred3))"
      ],
      "execution_count": null,
      "outputs": [
        {
          "output_type": "stream",
          "name": "stdout",
          "text": [
            "0.9650837988826816\n"
          ]
        }
      ]
    },
    {
      "cell_type": "code",
      "metadata": {
        "id": "TFPteKWJVVq-"
      },
      "source": [
        "new_email=[]\n",
        "new_email.append(input(\"Enter your email here:\"))"
      ],
      "execution_count": null,
      "outputs": []
    },
    {
      "cell_type": "code",
      "metadata": {
        "id": "kkRv6ViKXluQ"
      },
      "source": [
        "s = remsc(new_email)\n",
        "Vector_email = my_Vectorizer.transform(s)"
      ],
      "execution_count": null,
      "outputs": []
    },
    {
      "cell_type": "code",
      "metadata": {
        "id": "Houi-G6-XvMj"
      },
      "source": [
        "pred =clf_Gaussian.predict(Vector_email.toarray())\n",
        "pred"
      ],
      "execution_count": null,
      "outputs": []
    },
    {
      "cell_type": "code",
      "metadata": {
        "id": "Px7T5-CqXYZK"
      },
      "source": [
        "if (pred[0]==0):\n",
        "  print('The mail is not a spam!')\n",
        "\n",
        "else:\n",
        "    print('It is a spam!!')"
      ],
      "execution_count": null,
      "outputs": []
    }
  ]
}